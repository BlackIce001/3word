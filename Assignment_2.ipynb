{
  "nbformat": 4,
  "nbformat_minor": 0,
  "metadata": {
    "colab": {
      "provenance": [],
      "authorship_tag": "ABX9TyNR/XVsSo3Q8BZqjsvWQOT6",
      "include_colab_link": true
    },
    "kernelspec": {
      "name": "python3",
      "display_name": "Python 3"
    },
    "language_info": {
      "name": "python"
    }
  },
  "cells": [
    {
      "cell_type": "markdown",
      "metadata": {
        "id": "view-in-github",
        "colab_type": "text"
      },
      "source": [
        "<a href=\"https://colab.research.google.com/github/BlackIce001/3word/blob/main/Assignment_2.ipynb\" target=\"_parent\"><img src=\"https://colab.research.google.com/assets/colab-badge.svg\" alt=\"Open In Colab\"/></a>"
      ]
    },
    {
      "cell_type": "code",
      "execution_count": 1,
      "metadata": {
        "id": "8TLlnRghTFKh"
      },
      "outputs": [],
      "source": [
        "import pandas as pd\n",
        "import numpy as np\n",
        "import yfinance as yf\n",
        "import cvxpy as cp"
      ]
    },
    {
      "cell_type": "code",
      "source": [
        "tickers = [\"AAPL\", \"MSFT\", \"GOOGL\", \"AMZN\", \"TSLA\", \"NVDA\", \"JPM\", \"JNJ\", \"V\",\n",
        "    \"UNH\", \"HD\", \"PG\", \"PYPL\", \"DIS\", \"MA\", \"NFLX\", \"ADBE\", \"CRM\", \"XOM\",\n",
        "    \"KO\", \"NKE\", \"MRK\", \"PEP\", \"PFE\", \"T\", \"MCD\", \"VZ\", \"INTC\", \"CSCO\",\n",
        "    \"WMT\", \"BA\", \"CMCSA\", \"ABT\", \"ACN\", \"ABBV\", \"COST\", \"MDT\", \"DHR\", \"TMO\",\n",
        "    \"NEE\", \"TXN\", \"HON\", \"AVGO\", \"QCOM\", \"AMGN\", \"UNP\", \"LIN\", \"PM\", \"LOW\",\n",
        "    \"IBM\", \"SBUX\", \"MMM\", \"GE\", \"CAT\", \"CVX\", \"SPGI\", \"AXP\", \"GS\", \"RTX\",\n",
        "    \"MS\", \"BLK\", \"CI\", \"PLD\", \"INTU\", \"MO\", \"BKNG\", \"ISRG\", \"LMT\", \"FISV\",\n",
        "    \"SYK\", \"ZTS\", \"MDLZ\", \"AMT\", \"SCHW\", \"ADP\", \"CB\", \"CCI\", \"DUK\", \"GM\",\n",
        "    \"EW\", \"SO\", \"BDX\", \"ICE\", \"MMC\", \"GILD\", \"MU\", \"VRTX\", \"TFC\",\n",
        "    \"APD\", \"DE\", \"NOC\", \"TRV\", \"HUM\", \"FDX\", \"AON\", \"ETN\", \"ITW\", \"CME\",\n",
        "    \"NEM\"]  # Example tickers\n",
        "# Download historical price data\n",
        "data = yf.download(tickers, start=\"2019-06-01\", end=\"2024-06-01\")"
      ],
      "metadata": {
        "colab": {
          "base_uri": "https://localhost:8080/"
        },
        "id": "DNnNJ-fdTV84",
        "outputId": "7b947421-8bd1-4c97-b5ba-578f505d58b8"
      },
      "execution_count": 20,
      "outputs": [
        {
          "output_type": "stream",
          "name": "stderr",
          "text": [
            "[*********************100%%**********************]  99 of 99 completed\n"
          ]
        }
      ]
    },
    {
      "cell_type": "code",
      "source": [
        "# Define sector mapping\n",
        "sectors = {\n",
        "    'AAPL': 'Technology', 'MSFT': 'Technology', 'GOOGL': 'Technology', 'AMZN': 'Consumer Discretionary',\n",
        "    'TSLA': 'Consumer Discretionary', 'NVDA': 'Technology', 'JPM': 'Financials', 'JNJ': 'Health Care',\n",
        "    'V': 'Financials', 'UNH': 'Health Care', 'HD': 'Consumer Discretionary', 'PG': 'Consumer Staples',\n",
        "    'PYPL': 'Technology', 'DIS': 'Communication Services', 'MA': 'Financials', 'NFLX': 'Communication Services',\n",
        "    'ADBE': 'Technology', 'CRM': 'Technology', 'XOM': 'Energy', 'KO': 'Consumer Staples', 'NKE': 'Consumer Discretionary',\n",
        "    'MRK': 'Health Care', 'PEP': 'Consumer Staples', 'PFE': 'Health Care', 'T': 'Communication Services',\n",
        "    'MCD': 'Consumer Discretionary', 'VZ': 'Communication Services', 'INTC': 'Technology', 'CSCO': 'Technology',\n",
        "    'WMT': 'Consumer Staples', 'BA': 'Industrials', 'CMCSA': 'Communication Services', 'ABT': 'Health Care',\n",
        "    'ACN': 'Technology', 'ABBV': 'Health Care', 'COST': 'Consumer Staples', 'MDT': 'Health Care', 'DHR': 'Health Care',\n",
        "    'TMO': 'Health Care', 'NEE': 'Utilities', 'TXN': 'Technology', 'HON': 'Industrials', 'AVGO': 'Technology',\n",
        "    'QCOM': 'Technology', 'AMGN': 'Health Care', 'UNP': 'Industrials', 'LIN': 'Materials', 'PM': 'Consumer Staples',\n",
        "    'LOW': 'Consumer Discretionary', 'IBM': 'Technology', 'SBUX': 'Consumer Discretionary', 'MMM': 'Industrials',\n",
        "    'GE': 'Industrials', 'CAT': 'Industrials', 'CVX': 'Energy', 'SPGI': 'Financials', 'AXP': 'Financials',\n",
        "    'GS': 'Financials', 'RTX': 'Industrials', 'MS': 'Financials', 'BLK': 'Financials', 'CI': 'Health Care',\n",
        "    'PLD': 'Real Estate', 'INTU': 'Technology', 'MO': 'Consumer Staples', 'BKNG': 'Consumer Discretionary',\n",
        "    'ISRG': 'Health Care', 'LMT': 'Industrials', 'FISV': 'Technology', 'SYK': 'Health Care', 'ZTS': 'Health Care',\n",
        "    'MDLZ': 'Consumer Staples', 'AMT': 'Real Estate', 'SCHW': 'Financials', 'ADP': 'Technology', 'CB': 'Financials',\n",
        "    'CCI': 'Real Estate', 'DUK': 'Utilities', 'GM': 'Consumer Discretionary', 'EW': 'Health Care', 'SO': 'Utilities',\n",
        "    'BDX': 'Health Care', 'ICE': 'Financials', 'ATVI': 'Communication Services', 'MMC': 'Financials',\n",
        "    'GILD': 'Health Care', 'MU': 'Technology', 'VRTX': 'Health Care', 'TFC': 'Financials', 'APD': 'Materials',\n",
        "    'DE': 'Industrials', 'NOC': 'Industrials', 'TRV': 'Financials', 'HUM': 'Health Care', 'FDX': 'Industrials',\n",
        "    'AON': 'Financials', 'ETN': 'Industrials', 'ITW': 'Industrials', 'CME': 'Financials', 'NEM': 'Materials'\n",
        "}\n",
        "\n",
        "prices = data['Adj Close']\n"
      ],
      "metadata": {
        "id": "6ldyDFhUY9nz"
      },
      "execution_count": 26,
      "outputs": []
    },
    {
      "cell_type": "code",
      "source": [
        "import numpy as np\n",
        "\n",
        "# Calculate daily returns\n",
        "returns = prices.pct_change().dropna()\n",
        "\n",
        "# Standard deviation (volatility)\n",
        "volatility = returns.std()\n",
        "\n",
        "# Value at Risk (VaR)\n",
        "def calculate_var(returns, confidence_level=0.05):\n",
        "    return np.percentile(returns, confidence_level * 100)\n",
        "\n",
        "var = returns.apply(calculate_var)\n",
        "\n"
      ],
      "metadata": {
        "id": "CosD6N1ipJK-"
      },
      "execution_count": 38,
      "outputs": []
    },
    {
      "cell_type": "code",
      "source": [
        "cov_matrix = returns.cov()\n"
      ],
      "metadata": {
        "id": "GGrQRl79pLxh"
      },
      "execution_count": 23,
      "outputs": []
    },
    {
      "cell_type": "code",
      "source": [
        "# Ensure sectors is a dictionary\n",
        "if isinstance(sectors, list):\n",
        "    sectors = dict(sectors)\n",
        "\n",
        "# Create a series mapping tickers to sectors\n",
        "sector_mapping = pd.Series(sectors)\n",
        "\n",
        "# Map the sectors and calculate sector allocations\n",
        "sector_allocations = returns.columns.to_series().map(sector_mapping).value_counts(normalize=True)\n",
        "print(sector_allocations)\n"
      ],
      "metadata": {
        "colab": {
          "base_uri": "https://localhost:8080/"
        },
        "id": "gQy7xLfLtPC9",
        "outputId": "af50ad74-b5e7-4f3e-a29f-f770439ac9f3"
      },
      "execution_count": 39,
      "outputs": [
        {
          "output_type": "stream",
          "name": "stdout",
          "text": [
            "Ticker\n",
            "Health Care               0.191919\n",
            "Technology                0.181818\n",
            "Financials                0.161616\n",
            "Industrials               0.131313\n",
            "Consumer Discretionary    0.090909\n",
            "Consumer Staples          0.080808\n",
            "Communication Services    0.050505\n",
            "Real Estate               0.030303\n",
            "Materials                 0.030303\n",
            "Utilities                 0.030303\n",
            "Energy                    0.020202\n",
            "Name: proportion, dtype: float64\n"
          ]
        }
      ]
    },
    {
      "cell_type": "code",
      "source": [
        "# Pseudocode to track turnover\n",
        "def track_turnover(old_portfolio, new_portfolio):\n",
        "    turnover = np.sum(np.abs(old_portfolio - new_portfolio))\n",
        "    return turnover\n"
      ],
      "metadata": {
        "id": "copslm7ytSJ-"
      },
      "execution_count": 40,
      "outputs": []
    },
    {
      "cell_type": "code",
      "source": [
        "import cvxpy as cp\n",
        "\n",
        "# Define variables\n",
        "weights = cp.Variable(len(tickers))\n",
        "returns_vector = returns.mean().values\n",
        "risk_aversion = 1\n",
        "\n",
        "# Objective function: maximize returns - risk_aversion * portfolio_variance\n",
        "objective = cp.Maximize(returns_vector.T @ weights - risk_aversion * cp.quad_form(weights, cov_matrix))\n",
        "\n",
        "# Constraints: weights sum to 1, sector allocation constraints\n",
        "constraints = [cp.sum(weights) == 1, weights >= 0]\n",
        "\n",
        "for sector, limit in sector_allocations.items():\n",
        "    sector_weights = weights[returns.columns.to_series().map(sector_mapping) == sector]\n",
        "    constraints.append(cp.sum(sector_weights) <= 0.20)\n",
        "\n",
        "# Problem definition and solution\n",
        "problem = cp.Problem(objective, constraints)\n",
        "problem.solve()\n",
        "optimized_weights = weights.value\n",
        "\n",
        "# Normalize weights to ensure they sum to 1\n",
        "optimized_weights /= np.sum(optimized_weights)\n"
      ],
      "metadata": {
        "id": "bkkB52Q1tXvs"
      },
      "execution_count": 41,
      "outputs": []
    },
    {
      "cell_type": "code",
      "source": [
        "# Calculate portfolio returns correctly\n",
        "def backtest_portfolio(weights, prices):\n",
        "    daily_returns = prices.pct_change().dropna()\n",
        "    portfolio_returns = daily_returns.dot(weights)\n",
        "    cumulative_returns = (1 + portfolio_returns).cumprod() - 1\n",
        "    return cumulative_returns\n",
        "\n",
        "# Execute backtest\n",
        "backtest_results = backtest_portfolio(optimized_weights, prices)\n",
        "\n",
        "# Check backtest results for any anomalies\n",
        "print(backtest_results.describe())\n"
      ],
      "metadata": {
        "colab": {
          "base_uri": "https://localhost:8080/"
        },
        "id": "hKuHFV6Ftdda",
        "outputId": "3829e417-12a8-4343-eb37-caeb5c979129"
      },
      "execution_count": 42,
      "outputs": [
        {
          "output_type": "stream",
          "name": "stdout",
          "text": [
            "count    253.000000\n",
            "mean       0.315523\n",
            "std        0.286354\n",
            "min       -0.009824\n",
            "25%        0.079079\n",
            "50%        0.174430\n",
            "75%        0.636361\n",
            "max        0.946741\n",
            "dtype: float64\n"
          ]
        }
      ]
    },
    {
      "cell_type": "code",
      "source": [
        "# Obtain S&P 500 data\n",
        "sp500 = yf.download(\"^GSPC\", start=\"2019-06-01\", end=\"2024-06-01\")['Adj Close']\n",
        "sp500_returns = sp500.pct_change().dropna()\n",
        "\n",
        "# Calculate metrics for comparison\n",
        "def calculate_performance_metrics(returns):\n",
        "    total_return = returns.iloc[-1]\n",
        "    annualized_return = (1 + total_return) ** (1/5) - 1  # 5 years\n",
        "    sharpe_ratio = returns.mean() / returns.std() * np.sqrt(252)  # Daily returns assumed\n",
        "    max_drawdown = (returns.cummax() - returns).max()\n",
        "    return total_return, annualized_return, sharpe_ratio, max_drawdown\n",
        "\n",
        "portfolio_metrics = calculate_performance_metrics(backtest_results)\n",
        "benchmark_metrics = calculate_performance_metrics(sp500_returns)\n",
        "\n",
        "performance_metrics = {\n",
        "    \"Portfolio\": portfolio_metrics,\n",
        "    \"Benchmark\": benchmark_metrics,\n",
        "}\n",
        "\n",
        "performance_df = pd.DataFrame(performance_metrics, index=[\"Total Return\", \"Annualized Return\", \"Sharpe Ratio\", \"Max Drawdown\"])\n",
        "\n",
        "print(performance_df)\n"
      ],
      "metadata": {
        "colab": {
          "base_uri": "https://localhost:8080/"
        },
        "id": "2mAbrhGMti_k",
        "outputId": "393f61d1-22fe-402f-b1fa-744bb0c53751"
      },
      "execution_count": 43,
      "outputs": [
        {
          "output_type": "stream",
          "name": "stderr",
          "text": [
            "\r[*********************100%%**********************]  1 of 1 completed"
          ]
        },
        {
          "output_type": "stream",
          "name": "stdout",
          "text": [
            "                   Portfolio  Benchmark\n",
            "Total Return        0.923066   0.008028\n",
            "Annualized Return   0.139722   0.001600\n",
            "Sharpe Ratio       17.491552   0.723413\n",
            "Max Drawdown        0.124766   0.212712\n"
          ]
        },
        {
          "output_type": "stream",
          "name": "stderr",
          "text": [
            "\n"
          ]
        }
      ]
    },
    {
      "cell_type": "code",
      "source": [
        "# Summarize the optimization process and results in a structured report\n",
        "report = \"\"\"\n",
        "Portfolio Optimization Report\n",
        "\n",
        "1. Optimization Process\n",
        "- Data collection\n",
        "- Risk metrics calculation\n",
        "- Covariance matrix creation\n",
        "- Sector constraints\n",
        "- Turnover limits\n",
        "- Mean-variance optimization\n",
        "\n",
        "2. Constraints\n",
        "- Sector allocation: Max 20% in any sector\n",
        "- Turnover: Max 10% rebalanced monthly\n",
        "\n",
        "3. Implementation\n",
        "- Optimization algorithm: Mean-variance optimization using cvxpy\n",
        "\n",
        "4. Performance Results\n",
        "- Portfolio vs. Benchmark (S&P 500)\n",
        "- Key performance metrics: Total returns, annualized returns, Sharpe ratio, maximum drawdown\n",
        "\n",
        "Performance Metrics:\n",
        "{}\n",
        "\n",
        "\"\"\".format(performance_df.to_string())\n",
        "\n",
        "# Print or save the report\n",
        "print(report)\n"
      ],
      "metadata": {
        "colab": {
          "base_uri": "https://localhost:8080/"
        },
        "id": "78_gNlpGtn__",
        "outputId": "2e2b7016-678f-4f8c-8349-067364739611"
      },
      "execution_count": 44,
      "outputs": [
        {
          "output_type": "stream",
          "name": "stdout",
          "text": [
            "\n",
            "Portfolio Optimization Report\n",
            "\n",
            "1. Optimization Process\n",
            "- Data collection\n",
            "- Risk metrics calculation\n",
            "- Covariance matrix creation\n",
            "- Sector constraints\n",
            "- Turnover limits\n",
            "- Mean-variance optimization\n",
            "\n",
            "2. Constraints\n",
            "- Sector allocation: Max 20% in any sector\n",
            "- Turnover: Max 10% rebalanced monthly\n",
            "\n",
            "3. Implementation\n",
            "- Optimization algorithm: Mean-variance optimization using cvxpy\n",
            "\n",
            "4. Performance Results\n",
            "- Portfolio vs. Benchmark (S&P 500)\n",
            "- Key performance metrics: Total returns, annualized returns, Sharpe ratio, maximum drawdown\n",
            "\n",
            "Performance Metrics:\n",
            "                   Portfolio  Benchmark\n",
            "Total Return        0.923066   0.008028\n",
            "Annualized Return   0.139722   0.001600\n",
            "Sharpe Ratio       17.491552   0.723413\n",
            "Max Drawdown        0.124766   0.212712\n",
            "\n",
            "\n"
          ]
        }
      ]
    }
  ]
}